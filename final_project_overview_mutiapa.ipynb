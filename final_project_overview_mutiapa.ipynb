{
 "cells": [
  {
   "attachments": {},
   "cell_type": "markdown",
   "metadata": {},
   "source": [
    "## Data Sources \n",
    "\n",
    "1. Google Books API\n",
    "   - Origin: https://developers.google.com/books/docs/v1/using\n",
    "   - Format: JSON\n",
    "   - Access: API calls, caching implemented\n",
    "2. OMDB API\n",
    "   - Origin: https://www.omdbapi.com/\n",
    "   - Format: JSON\n",
    "   - Access: API calls, caching implemented\n",
    "3. IMDb (Web scraping for movie descriptions)\n",
    "   - Origin: https://www.imdb.com/\n",
    "   - Format: HTML\n",
    "   - Access: Web scraping, caching implemented\n",
    "4. News API\n",
    "   - Origin: https://newsapi.org/\n",
    "   - Format: JSON\n",
    "   - Access: API calls, caching implemented\n",
    "\n",
    "## Data Summary \n",
    "\n",
    "- Google Books API: \n",
    "  - Records available: Depends on search query\n",
    "  - Records retrieved: 10 results per page (variable)\n",
    "  - Description of records: Book information, including title, author, publisher, and publication date\n",
    "- OMDB API:\n",
    "  - Records available: Depends on search query\n",
    "  - Records retrieved: 10 results per page (variable)\n",
    "  - Description of records: Movie information, including title, director, actors, and release year\n",
    "- IMDb (Web scraping for movie descriptions):\n",
    "  - Records available: Depends on the movie\n",
    "  - Records retrieved: 1 movie description per movie\n",
    "  - Description of records: Movie description, scraped from the IMDb webpage\n",
    "- News API:\n",
    "  - Records available: Depends on search query\n",
    "  - Records retrieved: 20 results per page (variable)\n",
    "  - Description of records: News article information, including title, URL, source, and published date\n",
    "\n",
    "## Data Structure and Implementation\n",
    "\n",
    "The application uses a combination of classes, dictionaries, lists, and JSON files to organize and store the data fetched from different sources.\n",
    "\n",
    "## Classes\n",
    "\n",
    "Book: A class to represent individual books, storing information such as title, author, release year, URL, genres, and average rating.\n",
    "\n",
    "## Data Structure:\n",
    "\n",
    "- The data structure used in this code is a genre graph, represented by a dictionary with genres as keys and lists of books as values. The genre graph shows the relationship between genres and the books belonging to each genre.\n",
    "- The genre graph is created using the create_genre_graph function, which takes a list of books as input. The function iterates through the books and their genres, adding each book to the corresponding genre list in the genre graph. Here's the code for creating the genre graph:"
   ]
  },
  {
   "cell_type": "code",
   "execution_count": null,
   "metadata": {
    "vscode": {
     "languageId": "plaintext"
    }
   },
   "outputs": [],
   "source": [
    "def create_genre_graph(book_list):\n",
    "    \"\"\"\n",
    "    Create a genre graph from a list of Book objects.\n",
    "\n",
    "    Args:\n",
    "        book_list (list): A list of Book objects.\n",
    "\n",
    "    Returns:\n",
    "        dict: A dictionary containing genre as the key and a list of books as the value.\n",
    "    \"\"\"\n",
    "    genre_graph = defaultdict(list)\n",
    "    for book in book_list:\n",
    "        for genre in book.genres:\n",
    "            genre_graph[genre].append(book)\n",
    "    return genre_graph"
   ]
  },
  {
   "attachments": {},
   "cell_type": "markdown",
   "metadata": {},
   "source": [
    "## Data Structure and Presentation in results.html\n",
    "\n",
    "The search results are organized into an accordion-style display, which includes sections for Books, Movies, Articles, Most Common Genres, and Highest Rated Books. This allows users to navigate between different categories of search results with ease.\n",
    "\n",
    "- Books: This section displays the list of books fetched from the Google Books API, each with a link to their Google Books page.\n",
    "- Movies: This section displays the list of movies fetched from a movie API, each with their title and a short description.\n",
    "- Articles: This section displays a list of news articles fetched from a news API, each with a link to the article, the source, and the date of publication.\n",
    "- Most Common Genres: This section displays the most common genres among the search results, with a list of books belonging to each genre.\n",
    "- Highest Rated Books: This section displays a list of the highest-rated books in the search results, each with a link to their Google Books page.\n",
    "\n",
    "## Data Processing\n",
    "\n",
    "- search_books(): A function that searches for books using the Google Books API, processes and filters the results, and returns a list of Book objects and the total number of items.\n",
    "- search_movies(): A function that searches for movies related to a book using the OMDB API and returns a list of movie information.\n",
    "- search_articles(): A function that searches for news articles using the News API and returns a list of article information.\n",
    "- create_genre_graph(): A function that creates a genre graph from a list of Book objects.\n",
    "- find_most_common_genres(): A function that finds the most common genres from a list of Book objects and returns a list of most common genres and a genre graph.\n",
    "- find_highest_rated_books(): A function that finds the highest-rated books from a list of Book objects and returns a sorted list of books.\n",
    "- get_movie_description(): A function that retrieves movie descriptions by web scraping the IMDb webpage using the IMDb ID."
   ]
  },
  {
   "attachments": {},
   "cell_type": "markdown",
   "metadata": {},
   "source": [
    "## JSON Files\n",
    "\n",
    "JSON files are used to cache search results from the Google Books API. The search query and start index are used to name the JSON files, which are stored in a 'cache' directory. For example, after searching for \"Dragon Ball\" here is the 'Dragon Ball_0.json' output: "
   ]
  },
  {
   "attachments": {},
   "cell_type": "markdown",
   "metadata": {},
   "source": [
    "{\"kind\": \"books#volumes\", \"totalItems\": 1164, \"items\": [{\"kind\": \"books#volume\", \"id\": \"DAsmvwEACAAJ\", \"etag\": \"0VQz704xqyA\", \"selfLink\": \"https://www.googleapis.com/books/v1/volumes/DAsmvwEACAAJ\", \"volumeInfo\": {\"title\": \"Dragon Ball, Vol. 1 (VIZBIG Edition)\", \"authors\": [\"Akira Toriyama\"], \"publisher\": \"VIZ Media LLC\", \"publishedDate\": \"2008-06-03\", \"description\": \"A seminal series from a legendary creator. Dragon Ball, a wry update on the Chinese \\\"Monkey King\\\" myth, introduces us to Son Go Son Goku, a young monkey-tailed boy whose quiet life is turned upside-down when he meets Bulma, a girl determined to collect the seven \\\"Dragon Balls.\\\" If she gathers them all, an incredibly powerful dragon will appear and grant her one wish. But the precious orbs are scattered all over the world, and to get them she needs the help of a certain super-strong boy. The VIZBIG edition of Dragon Ball contains volumes 1-3, bonus color content and updated text. Before there was Dragon Ball Z, there was Akira Toriyama's action epic Dragon Ball, starring the younger version of Son Goku and all the other Dragon Ball Z heroes! Meet a naive young monkey-tailed boy named Goku, whose quiet life changes when he meets Bulma, a girl who is on a quest to collect seven \\\"Dragon Balls.\\\" If she gathers them all, an incredibly powerful dragon will appear and grant her one wish. But the precious orbs are scattered all over the world, and Bulma needs Goku's help (and his super-strength)! With a magic staff for a weapon and a flying cloud for a ride, Goku sets out on the adventure of a lifetime...\", \"industryIdentifiers\": [{\"type\": \"ISBN_10\", \"identifier\": \"1421520591\"}, {\"type\": \"ISBN_13\", \"identifier\": \"9781421520599\"}], \"readingModes\": {\"text\": false, \"image\": false}, \"pageCount\": 560, \"printType\": \"BOOK\", \"categories\": [\"Comics & Graphic Novels\"], \"averageRating\": 3.5, \"ratingsCount\": 4, \"maturityRating\": \"NOT_MATURE\", \"allowAnonLogging\": false, \"contentVersion\": \"preview-1.0.0\", \"panelizationSummary\": {\"containsEpubBubbles\": false, \"containsImageBubbles\": false}, \"comicsContent\": true, \"imageLinks\": {\"smallThumbnail\": \"http://books.google.com/books/content?id=DAsmvwEACAAJ&printsec=frontcover&img=1&zoom=5&source=gbs_api\", \"thumbnail\": \"http://books.google.com/books/content?id=DAsmvwEACAAJ&printsec=frontcover&img=1&zoom=1&source=gbs_api\"}, \"language\": \"en\", \"previewLink\": \"http://books.google.com/books?id=DAsmvwEACAAJ&dq=Dragon+Ball&hl=&cd=1&source=gbs_api\", \"infoLink\": \"http://books.google.com/books?id=DAsmvwEACAAJ&dq=Dragon+Ball&hl=&source=gbs_api\", \"canonicalVolumeLink\": \"https://books.google.com/books/about/Dragon_Ball_Vol_1_VIZBIG_Edition.html?hl=&id=DAsmvwEACAAJ\"}, \"saleInfo\": {\"country\": \"US\", \"saleability\": \"NOT_FOR_SALE\", \"isEbook\": false}, \"accessInfo\": {\"country\": \"US\", \"viewability\": \"NO_PAGES\", \"embeddable\": false, \"publicDomain\": false, \"textToSpeechPermission\": \"ALLOWED\", \"epub\": {\"isAvailable\": false}, \"pdf\": {\"isAvailable\": false}, \"webReaderLink\": \"http://play.google.com/books/reader?id=DAsmvwEACAAJ&hl=&source=gbs_api\", \"accessViewStatus\": \"NONE\", \"quoteSharingAllowed\": false}, \"searchInfo\": {\"textSnippet\": \"But the precious orbs are scattered all over the world, and to get them she needs the help of a certain super-strong boy. The VIZBIG edition of Dragon Ball contains volumes 1-3, bonus color content and updated text.\"}}, {\"kind\": \"books#volume\", \"id\": \"h3ozZ-2kb-AC\", \"etag\": \"o28IEW13ny0\", \"selfLink\": \"https://www.googleapis.com/books/v1/volumes/h3ozZ-2kb-AC\", \"volumeInfo\": {\"title\": \"Dragon Ball Z \\\"It's Over 9,000!\\\" When Worldviews Collide\", \"authors\": [\"Derek Padula\"], \"publisher\": \"Derek Padula\", \"publishedDate\": \"2012-09-09\", \"description\": \"The Dragon Ball Z internet phenomenon known as Over 9,000! went viral with over 7 million views on Youtube in the late 2000s. This e-book will explain the meaning behind Over 9,000 and its significant pop cultural implications in mass media, and the deeper insights into what made the Dragon Ball series so epic.\", \"industryIdentifiers\": [{\"type\": \"ISBN_13\", \"identifier\": \"9780983120520\"}, {\"type\": \"ISBN_10\", \"identifier\": \"0983120528\"}], \"readingModes\": {\"text\": true, \"image\": true}, \"pageCount\": 104, \"printType\": \"BOOK\", \"categories\": [\"Social Science\"], \"averageRating\": 4.5, \"ratingsCount\": 11, \"maturityRating\": \"NOT_MATURE\", \"allowAnonLogging\": true, \"contentVersion\": \"1.5.5.0.preview.3\", \"panelizationSummary\": {\"containsEpubBubbles\": false, \"containsImageBubbles\": false}, \"imageLinks\": {\"smallThumbnail\": \"http://books.google.com/books/content?id=h3ozZ-2kb-AC&printsec=frontcover&img=1&zoom=5&edge=curl&source=gbs_api\", \"thumbnail\": \"http://books.google.com/books/content?id=h3ozZ-2kb-AC&printsec=frontcover&img=1&zoom=1&edge=curl&source=gbs_api\"}, \"language\": \"en\", \"previewLink\": \"http://books.google.com/books?id=h3ozZ-2kb-AC&printsec=frontcover&dq=Dragon+Ball&hl=&cd=2&source=gbs_api\", \"infoLink\": \"https://play.google.com/store/books/details?id=h3ozZ-2kb-AC&source=gbs_api\", \"canonicalVolumeLink\": \"https://play.google.com/store/books/details?id=h3ozZ-2kb-AC\"}, \"saleInfo\": {\"country\": \"US\", \"saleability\": \"FOR_SALE\", \"isEbook\": true, \"listPrice\": {\"amount\": 6.99, \"currencyCode\": \"USD\"}, \"retailPrice\": {\"amount\": 6.99, \"currencyCode\": \"USD\"}, \"buyLink\": \"https://play.google.com/store/books/details?id=h3ozZ-2kb-AC&rdid=book-h3ozZ-2kb-AC&rdot=1&source=gbs_api\", \"offers\": [{\"finskyOfferType\": 1, \"listPrice\": {\"amountInMicros\": 6990000, \"currencyCode\": \"USD\"}, \"retailPrice\": {\"amountInMicros\": 6990000, \"currencyCode\": \"USD\"}, \"giftable\": true}]}, \"accessInfo\": {\"country\": \"US\", \"viewability\": \"PARTIAL\", \"embeddable\": true, \"publicDomain\": false, \"textToSpeechPermission\": \"ALLOWED\", \"epub\": {\"isAvailable\": true}, \"pdf\": {\"isAvailable\": true}, \"webReaderLink\": \"http://play.google.com/books/reader?id=h3ozZ-2kb-AC&hl=&source=gbs_api\", \"accessViewStatus\": \"SAMPLE\", \"quoteSharingAllowed\": false}, \"searchInfo\": {\"textSnippet\": \"This e-book will explain the meaning behind Over 9,000 and its significant pop cultural implications in mass media, and the deeper insights into what made the Dragon Ball series so epic.\"}}, {\"kind\": \"books#volume\", \"id\": \"iQmqPwAACAAJ\", \"etag\": \"2hW9Vt7VuSM\", \"selfLink\": \"https://www.googleapis.com/books/v1/volumes/iQmqPwAACAAJ\", \"volumeInfo\": {\"title\": \"Dragon Ball\", \"authors\": [\"Akira Toriyama\", \"Mari Morimoto\"], \"publisher\": \"Weidenfeld & Nicolson\", \"publishedDate\": \"2005\", \"description\": \"Son Goku is a naive young monkey-tailed boy whose quiet life is completely over-turned when he is nearly run over by a precocious and spiky girl caled Bulma. She is on a quest to collect seven Dragon Balls and thereby be granted one wish. she bargained for when she tricks Son to hand over the dragon ball he owns and gets him to join her quest. witty and sharp interplay between Bulma and Goku.\", \"industryIdentifiers\": [{\"type\": \"ISBN_10\", \"identifier\": \"0575077417\"}, {\"type\": \"ISBN_13\", \"identifier\": \"9780575077416\"}], \"readingModes\": {\"text\": false, \"image\": false}, \"pageCount\": 175, \"printType\": \"BOOK\", \"categories\": [\"Comic books, strips, etc\"], \"averageRating\": 4, \"ratingsCount\": 10, \"maturityRating\": \"NOT_MATURE\", \"allowAnonLogging\": false, \"contentVersion\": \"preview-1.0.0\", \"imageLinks\": {\"smallThumbnail\": \"http://books.google.com/books/content?id=iQmqPwAACAAJ&printsec=frontcover&img=1&zoom=5&source=gbs_api\", \"thumbnail\": \"http://books.google.com/books/content?id=iQmqPwAACAAJ&printsec=frontcover&img=1&zoom=1&source=gbs_api\"}, \"language\": \"en\", \"previewLink\": \"http://books.google.com/books?id=iQmqPwAACAAJ&dq=Dragon+Ball&hl=&cd=3&source=gbs_api\", \"infoLink\": \"http://books.google.com/books?id=iQmqPwAACAAJ&dq=Dragon+Ball&hl=&source=gbs_api\", \"canonicalVolumeLink\": \"https://books.google.com/books/about/Dragon_Ball.html?hl=&id=iQmqPwAACAAJ\"}, \"saleInfo\": {\"country\": \"US\", \"saleability\": \"NOT_FOR_SALE\", \"isEbook\": false}, \"accessInfo\": {\"country\": \"US\", \"viewability\": \"NO_PAGES\", \"embeddable\": false, \"publicDomain\": false, \"textToSpeechPermission\": \"ALLOWED\", \"epub\": {\"isAvailable\": false}, \"pdf\": {\"isAvailable\": false}, \"webReaderLink\": \"http://play.google.com/books/reader?id=iQmqPwAACAAJ&hl=&source=gbs_api\", \"accessViewStatus\": \"NONE\", \"quoteSharingAllowed\": false}, \"searchInfo\": {\"textSnippet\": \"But the balls are scattered all over the world and Bulma gets much more than she bargained for when she tricks Son to hand over the dragon ball he owns and gets him to join her quest.\"}}, {\"kind\": \"books#volume\", \"id\": \"JYvmBQAAQBAJ\", \"etag\": \"4I8bsukEm5I\", \"selfLink\": \"https://www.googleapis.com/books/v1/volumes/JYvmBQAAQBAJ\", \"volumeInfo\": {\"title\": \"Dragon Ball Culture Volume 1\", \"subtitle\": \"Origin\", \"authors\": [\"Derek Padula\"], \"publisher\": \"Derek Padula\", \"publishedDate\": \"2014-12-21\", \"description\": \"See Dragon Ball with new eyes. This book is your cultural tour guide of Dragon Ball, the world\\u2019s most recognized anime and manga series. Over 11 years in development, at over 2,000 pages, and featuring over 1,800 unique terms, Dragon Ball Culture is a 7 Volume analysis of your favorite series. You will go on an adventure with Son Goku, from Chapter 1 to 194 of the original Dragon Ball series, as we explore every page, every panel, and every sentence, to reveal the hidden symbolism and deeper meaning of Dragon Ball. In Volume 1 you will discover the origin of Dragon Ball. How does Akira Toriyama get his big break and become a manga author? Why does he make Dragon Ball? Where does Dragon Ball\\u2019s culture come from? And why is it so successful? Along the way you\\u2019ll be informed, entertained, and inspired. You will learn more about your favorite series and about yourself. Now step with me through the doorway of Dragon Ball Culture.\", \"industryIdentifiers\": [{\"type\": \"ISBN_13\", \"identifier\": \"9780983120575\"}, {\"type\": \"ISBN_10\", \"identifier\": \"0983120579\"}], \"readingModes\": {\"text\": true, \"image\": true}, \"pageCount\": 250, \"printType\": \"BOOK\", \"categories\": [\"Comics & Graphic Novels\"], \"averageRating\": 5, \"ratingsCount\": 1, \"maturityRating\": \"NOT_MATURE\", \"allowAnonLogging\": true, \"contentVersion\": \"1.11.12.0.preview.3\", \"panelizationSummary\": {\"containsEpubBubbles\": false, \"containsImageBubbles\": false}, \"imageLinks\": {\"smallThumbnail\": \"http://books.google.com/books/content?id=JYvmBQAAQBAJ&printsec=frontcover&img=1&zoom=5&edge=curl&source=gbs_api\", \"thumbnail\": \"http://books.google.com/books/content?id=JYvmBQAAQBAJ&printsec=frontcover&img=1&zoom=1&edge=curl&source=gbs_api\"}, \"language\": \"en\", \"previewLink\": \"http://books.google.com/books?id=JYvmBQAAQBAJ&printsec=frontcover&dq=Dragon+Ball&hl=&cd=4&source=gbs_api\", \"infoLink\": \"https://play.google.com/store/books/details?id=JYvmBQAAQBAJ&source=gbs_api\", \"canonicalVolumeLink\": \"https://play.google.com/store/books/details?id=JYvmBQAAQBAJ\", \"seriesInfo\": {\"kind\": \"books#volume_series_info\", \"shortSeriesBookTitle\": \"Origin\", \"bookDisplayNumber\": \"1\", \"volumeSeries\": [{\"seriesId\": \"YZf3GgAAABCXjM\", \"seriesBookType\": \"COLLECTED_EDITION\", \"orderNumber\": 1}]}}, \"saleInfo\": {\"country\": \"US\", \"saleability\": \"FOR_SALE\", \"isEbook\": true, \"listPrice\": {\"amount\": 3.99, \"currencyCode\": \"USD\"}, \"retailPrice\": {\"amount\": 3.99, \"currencyCode\": \"USD\"}, \"buyLink\": \"https://play.google.com/store/books/details?id=JYvmBQAAQBAJ&rdid=book-JYvmBQAAQBAJ&rdot=1&source=gbs_api\", \"offers\": [{\"finskyOfferType\": 1, \"listPrice\": {\"amountInMicros\": 3990000, \"currencyCode\": \"USD\"}, \"retailPrice\": {\"amountInMicros\": 3990000, \"currencyCode\": \"USD\"}, \"giftable\": true}]}, \"accessInfo\": {\"country\": \"US\", \"viewability\": \"PARTIAL\", \"embeddable\": true, \"publicDomain\": false, \"textToSpeechPermission\": \"ALLOWED\", \"epub\": {\"isAvailable\": true}, \"pdf\": {\"isAvailable\": true}, \"webReaderLink\": \"http://play.google.com/books/reader?id=JYvmBQAAQBAJ&hl=&source=gbs_api\", \"accessViewStatus\": \"SAMPLE\", \"quoteSharingAllowed\": false}, \"searchInfo\": {\"textSnippet\": \"See Dragon Ball with new eyes. This book is your cultural tour guide of Dragon Ball, the world\\u2019s most recognized anime and manga series.\"}}, {\"kind\": \"books#volume\", \"id\": \"hEeDFD3KItgC\", \"etag\": \"M2dxyr98JfE\", \"selfLink\": \"https://www.googleapis.com/books/v1/volumes/hEeDFD3KItgC\", \"volumeInfo\": {\"title\": \"The Dragon Ball Z Legend\", \"subtitle\": \"The Quest ContinuesVolume 2 of Mysteries and Secrets Revealed!\", \"authors\": [\"DH Publishing\"], \"publisher\": \"DH Publishing Inc\", \"publishedDate\": \"2004-05\", \"description\": \"In Akira Toriyama's beloved Dragon Ball series, many mysteries remain unsolved and are now explained in this handbook which explores the entire world of Goku.\", \"industryIdentifiers\": [{\"type\": \"ISBN_13\", \"identifier\": \"9780972312493\"}, {\"type\": \"ISBN_10\", \"identifier\": \"0972312498\"}], \"readingModes\": {\"text\": true, \"image\": true}, \"pageCount\": 190, \"printType\": \"BOOK\", \"categories\": [\"Performing Arts\"], \"averageRating\": 3, \"ratingsCount\": 19, \"maturityRating\": \"NOT_MATURE\", \"allowAnonLogging\": true, \"contentVersion\": \"0.4.4.0.preview.3\", \"panelizationSummary\": {\"containsEpubBubbles\": false, \"containsImageBubbles\": false}, \"imageLinks\": {\"smallThumbnail\": \"http://books.google.com/books/content?id=hEeDFD3KItgC&printsec=frontcover&img=1&zoom=5&edge=curl&source=gbs_api\", \"thumbnail\": \"http://books.google.com/books/content?id=hEeDFD3KItgC&printsec=frontcover&img=1&zoom=1&edge=curl&source=gbs_api\"}, \"language\": \"en\", \"previewLink\": \"http://books.google.com/books?id=hEeDFD3KItgC&pg=PA11&dq=Dragon+Ball&hl=&cd=5&source=gbs_api\", \"infoLink\": \"https://play.google.com/store/books/details?id=hEeDFD3KItgC&source=gbs_api\", \"canonicalVolumeLink\": \"https://play.google.com/store/books/details?id=hEeDFD3KItgC\", \"seriesInfo\": {\"kind\": \"books#volume_series_info\", \"shortSeriesBookTitle\": \"The Quest ContinuesVolume 2 of Mysteries and Secrets Revealed!\", \"bookDisplayNumber\": \"2\", \"volumeSeries\": [{\"seriesId\": \"VJn3GgAAABCigM\", \"seriesBookType\": \"ISSUE\", \"orderNumber\": 1}]}}, \"saleInfo\": {\"country\": \"US\", \"saleability\": \"FOR_SALE\", \"isEbook\": true, \"listPrice\": {\"amount\": 2.99, \"currencyCode\": \"USD\"}, \"retailPrice\": {\"amount\": 2.99, \"currencyCode\": \"USD\"}, \"buyLink\": \"https://play.google.com/store/books/details?id=hEeDFD3KItgC&rdid=book-hEeDFD3KItgC&rdot=1&source=gbs_api\", \"offers\": [{\"finskyOfferType\": 1, \"listPrice\": {\"amountInMicros\": 2990000, \"currencyCode\": \"USD\"}, \"retailPrice\": {\"amountInMicros\": 2990000, \"currencyCode\": \"USD\"}, \"giftable\": true}]}, \"accessInfo\": {\"country\": \"US\", \"viewability\": \"PARTIAL\", \"embeddable\": true, \"publicDomain\": false, \"textToSpeechPermission\": \"ALLOWED\", \"epub\": {\"isAvailable\": true, \"acsTokenLink\": \"http://books.google.com/books/download/The_Dragon_Ball_Z_Legend-sample-epub.acsm?id=hEeDFD3KItgC&format=epub&output=acs4_fulfillment_token&dl_type=sample&source=gbs_api\"}, \"pdf\": {\"isAvailable\": true, \"acsTokenLink\": \"http://books.google.com/books/download/The_Dragon_Ball_Z_Legend-sample-pdf.acsm?id=hEeDFD3KItgC&format=pdf&output=acs4_fulfillment_token&dl_type=sample&source=gbs_api\"}, \"webReaderLink\": \"http://play.google.com/books/reader?id=hEeDFD3KItgC&hl=&source=gbs_api\", \"accessViewStatus\": \"SAMPLE\", \"quoteSharingAllowed\": false}, \"searchInfo\": {\"textSnippet\": \"From Comic Book to Small-Screen Stardom The <b>Dragon Ball</b> manga series ended in March 1995. However, the anime broadcast, first aired in February 1986, continued, with <b>Dragon Ball</b> GT, an original anime series, being released in February&nbsp;...\"}}, {\"kind\": \"books#volume\", \"id\": \"CVHwAQAAQBAJ\", \"etag\": \"4Ouoh+DAtMM\", \"selfLink\": \"https://www.googleapis.com/books/v1/volumes/CVHwAQAAQBAJ\", \"volumeInfo\": {\"title\": \"Dragon Ball Z, Vol. 1\", \"subtitle\": \"The World's Greatest Team\", \"authors\": [\"Akira Toriyama\"], \"publisher\": \"VIZ Media LLC\", \"publishedDate\": \"2011-07-13\", \"description\": \"Son Goku is the greatest hero on Earth. Five years after defeating the demon king Piccolo, he's grown up and had a family--he's married, and he has a child, Son Gohan. But what is the real reason for Goku's incredible strength? A visitor from outer space arrives bearing terrible news--Goku is an alien, and the visitor, Raditz, is Goku's brother! When Raditz turns out to be a ruthless killer, Goku must fight his incredibly strong brother to save his family and the entire human race. A surprising alliance may be Earth's last hope: Goku will team up with his old enemy Piccolo...archenemies united to save the world! -- VIZ Media\", \"industryIdentifiers\": [{\"type\": \"ISBN_13\", \"identifier\": \"9781421544847\"}, {\"type\": \"ISBN_10\", \"identifier\": \"1421544849\"}], \"readingModes\": {\"text\": true, \"image\": true}, \"pageCount\": 149, \"printType\": \"BOOK\", \"categories\": [\"Comics & Graphic Novels\"], \"averageRating\": 4, \"ratingsCount\": 1, \"maturityRating\": \"NOT_MATURE\", \"allowAnonLogging\": true, \"contentVersion\": \"1.1.2.0.preview.3\", \"panelizationSummary\": {\"containsEpubBubbles\": true, \"containsImageBubbles\": true, \"epubBubbleVersion\": \"6b820eb9542c5dde\", \"imageBubbleVersion\": \"6b820eb9542c5dde\"}, \"imageLinks\": {\"smallThumbnail\": \"http://books.google.com/books/content?id=CVHwAQAAQBAJ&printsec=frontcover&img=1&zoom=5&edge=curl&source=gbs_api\", \"thumbnail\": \"http://books.google.com/books/content?id=CVHwAQAAQBAJ&printsec=frontcover&img=1&zoom=1&edge=curl&source=gbs_api\"}, \"language\": \"en\", \"previewLink\": \"http://books.google.com/books?id=CVHwAQAAQBAJ&printsec=frontcover&dq=Dragon+Ball&hl=&cd=6&source=gbs_api\", \"infoLink\": \"https://play.google.com/store/books/details?id=CVHwAQAAQBAJ&source=gbs_api\", \"canonicalVolumeLink\": \"https://play.google.com/store/books/details?id=CVHwAQAAQBAJ\", \"seriesInfo\": {\"kind\": \"books#volume_series_info\", \"shortSeriesBookTitle\": \"The World's Greatest Team\", \"bookDisplayNumber\": \"1\", \"volumeSeries\": [{\"seriesId\": \"EVzcFwAAABDMSM\", \"seriesBookType\": \"COLLECTED_EDITION\", \"orderNumber\": 1}]}}, \"saleInfo\": {\"country\": \"US\", \"saleability\": \"FOR_SALE\", \"isEbook\": true, \"listPrice\": {\"amount\": 6.99, \"currencyCode\": \"USD\"}, \"retailPrice\": {\"amount\": 6.99, \"currencyCode\": \"USD\"}, \"buyLink\": \"https://play.google.com/store/books/details?id=CVHwAQAAQBAJ&rdid=book-CVHwAQAAQBAJ&rdot=1&source=gbs_api\", \"offers\": [{\"finskyOfferType\": 1, \"listPrice\": {\"amountInMicros\": 6990000, \"currencyCode\": \"USD\"}, \"retailPrice\": {\"amountInMicros\": 6990000, \"currencyCode\": \"USD\"}, \"giftable\": true}]}, \"accessInfo\": {\"country\": \"US\", \"viewability\": \"PARTIAL\", \"embeddable\": true, \"publicDomain\": false, \"textToSpeechPermission\": \"ALLOWED\", \"epub\": {\"isAvailable\": true, \"acsTokenLink\": \"http://books.google.com/books/download/Dragon_Ball_Z_Vol_1-sample-epub.acsm?id=CVHwAQAAQBAJ&format=epub&output=acs4_fulfillment_token&dl_type=sample&source=gbs_api\"}, \"pdf\": {\"isAvailable\": true, \"acsTokenLink\": \"http://books.google.com/books/download/Dragon_Ball_Z_Vol_1-sample-pdf.acsm?id=CVHwAQAAQBAJ&format=pdf&output=acs4_fulfillment_token&dl_type=sample&source=gbs_api\"}, \"webReaderLink\": \"http://play.google.com/books/reader?id=CVHwAQAAQBAJ&hl=&source=gbs_api\", \"accessViewStatus\": \"SAMPLE\", \"quoteSharingAllowed\": false}, \"searchInfo\": {\"textSnippet\": \"Son Goku is the greatest hero on Earth.\"}}, {\"kind\": \"books#volume\", \"id\": \"uxcqBgAAQBAJ\", \"etag\": \"J9dqtdVCk7w\", \"selfLink\": \"https://www.googleapis.com/books/v1/volumes/uxcqBgAAQBAJ\", \"volumeInfo\": {\"title\": \"Dragon Ball Culture Volume 2\", \"subtitle\": \"Adventure\", \"authors\": [\"Derek Padula\"], \"publisher\": \"Derek Padula\", \"publishedDate\": \"2015-01-14\", \"description\": \"Son Goku's adventure begins! Join me in Dragon Ball Culture Volume 2, as we travel along with Goku on his epic journey for greater strength. With each step that Goku takes, you'll discover more of the hidden spirituality and symbolism in Dragon Ball that makes the series so successful. You'll see how author Akira Toriyama synthesizes Chinese culture, Western technology, and Buddho-Daoist philosophy to create a series that speaks to your humanity. Not because of the action or the humor, but because it reminds you of what it means to be alive. Along the way you'll learn of Goku's ancient origin. You'll hear how the legend of a wild monkey-man begins in India, evolves across 2,000 years of Chinese and Japanese history, and leads to the Goku you know and love. I'll walk you through the journey from the first page to the last. And by the time we're done, you will be an expert on Dragon Ball's culture. Volume 2 explores Chapters 1 to 23 of the Dragon Ball manga. So let's take our first step with Goku!\", \"industryIdentifiers\": [{\"type\": \"ISBN_13\", \"identifier\": \"9780983120544\"}, {\"type\": \"ISBN_10\", \"identifier\": \"0983120544\"}], \"readingModes\": {\"text\": true, \"image\": true}, \"pageCount\": 525, \"printType\": \"BOOK\", \"categories\": [\"Comics & Graphic Novels\"], \"maturityRating\": \"NOT_MATURE\", \"allowAnonLogging\": true, \"contentVersion\": \"1.9.12.0.preview.3\", \"panelizationSummary\": {\"containsEpubBubbles\": false, \"containsImageBubbles\": false}, \"imageLinks\": {\"smallThumbnail\": \"http://books.google.com/books/content?id=uxcqBgAAQBAJ&printsec=frontcover&img=1&zoom=5&edge=curl&source=gbs_api\", \"thumbnail\": \"http://books.google.com/books/content?id=uxcqBgAAQBAJ&printsec=frontcover&img=1&zoom=1&edge=curl&source=gbs_api\"}, \"language\": \"en\", \"previewLink\": \"http://books.google.com/books?id=uxcqBgAAQBAJ&pg=PT435&dq=Dragon+Ball&hl=&cd=7&source=gbs_api\", \"infoLink\": \"https://play.google.com/store/books/details?id=uxcqBgAAQBAJ&source=gbs_api\", \"canonicalVolumeLink\": \"https://play.google.com/store/books/details?id=uxcqBgAAQBAJ\", \"seriesInfo\": {\"kind\": \"books#volume_series_info\", \"shortSeriesBookTitle\": \"Adventure\", \"bookDisplayNumber\": \"2\", \"volumeSeries\": [{\"seriesId\": \"YZf3GgAAABCXjM\", \"seriesBookType\": \"COLLECTED_EDITION\", \"orderNumber\": 2}]}}, \"saleInfo\": {\"country\": \"US\", \"saleability\": \"FOR_SALE\", \"isEbook\": true, \"listPrice\": {\"amount\": 6.99, \"currencyCode\": \"USD\"}, \"retailPrice\": {\"amount\": 6.99, \"currencyCode\": \"USD\"}, \"buyLink\": \"https://play.google.com/store/books/details?id=uxcqBgAAQBAJ&rdid=book-uxcqBgAAQBAJ&rdot=1&source=gbs_api\", \"offers\": [{\"finskyOfferType\": 1, \"listPrice\": {\"amountInMicros\": 6990000, \"currencyCode\": \"USD\"}, \"retailPrice\": {\"amountInMicros\": 6990000, \"currencyCode\": \"USD\"}, \"giftable\": true}]}, \"accessInfo\": {\"country\": \"US\", \"viewability\": \"PARTIAL\", \"embeddable\": true, \"publicDomain\": false, \"textToSpeechPermission\": \"ALLOWED\", \"epub\": {\"isAvailable\": true}, \"pdf\": {\"isAvailable\": true}, \"webReaderLink\": \"http://play.google.com/books/reader?id=uxcqBgAAQBAJ&hl=&source=gbs_api\", \"accessViewStatus\": \"SAMPLE\", \"quoteSharingAllowed\": false}, \"searchInfo\": {\"textSnippet\": \"<b>Dragon Ball</b> (\\u30c9\\u30e9\\u30b4\\u30f3\\u30dc\\u30fc\\u30eb, \\u201cDoragon B\\u014dru\\u201d): A manga series written by Akira Toriyama from 1984 to 1995, adapted into a hit anime, video game, and merchandise franchise. The quintessential batoru manga and the world&#39;s most recognized&nbsp;...\"}}, {\"kind\": \"books#volume\", \"id\": \"RmqEBgAAQBAJ\", \"etag\": \"tNUuWFWjYt8\", \"selfLink\": \"https://www.googleapis.com/books/v1/volumes/RmqEBgAAQBAJ\", \"volumeInfo\": {\"title\": \"Dragon Ball Culture Volume 3\", \"subtitle\": \"Battle\", \"authors\": [\"Derek Padula\"], \"publisher\": \"Derek Padula\", \"publishedDate\": \"2015-02-06\", \"description\": \"Goku begins a new adventure, and this time the quest is to conquer thyself. In Dragon Ball Culture Volume 3: Battle, you\\u2019ll discover the origin of Goku\\u2019s training mentality. You\\u2019ll see how Akira Toriyama combines thousands of years of martial arts history and modern cinema together to create the Tenkaichi Bud\\u014dkai. And you\\u2019ll hear how Dragon Ball almost gets cancelled, but then changes its format to become the world\\u2019s most recognized anime and manga series. Travel alongside Goku as he becomes the disciple of the world\\u2019s greatest martial artist, meets his new training partner, and competes in the largest tournament on Earth. Will this wild monkey boy gain the discipline he needs to become the champion? Volume 3 explores Chapters 24 to 53 of the Dragon Ball manga. Let the battle begin!\", \"industryIdentifiers\": [{\"type\": \"ISBN_13\", \"identifier\": \"9780983120506\"}, {\"type\": \"ISBN_10\", \"identifier\": \"0983120501\"}], \"readingModes\": {\"text\": true, \"image\": true}, \"pageCount\": 330, \"printType\": \"BOOK\", \"categories\": [\"Comics & Graphic Novels\"], \"maturityRating\": \"NOT_MATURE\", \"allowAnonLogging\": true, \"contentVersion\": \"1.9.9.0.preview.3\", \"panelizationSummary\": {\"containsEpubBubbles\": false, \"containsImageBubbles\": false}, \"imageLinks\": {\"smallThumbnail\": \"http://books.google.com/books/content?id=RmqEBgAAQBAJ&printsec=frontcover&img=1&zoom=5&edge=curl&source=gbs_api\", \"thumbnail\": \"http://books.google.com/books/content?id=RmqEBgAAQBAJ&printsec=frontcover&img=1&zoom=1&edge=curl&source=gbs_api\"}, \"language\": \"en\", \"previewLink\": \"http://books.google.com/books?id=RmqEBgAAQBAJ&pg=PT304&dq=Dragon+Ball&hl=&cd=8&source=gbs_api\", \"infoLink\": \"https://play.google.com/store/books/details?id=RmqEBgAAQBAJ&source=gbs_api\", \"canonicalVolumeLink\": \"https://play.google.com/store/books/details?id=RmqEBgAAQBAJ\", \"seriesInfo\": {\"kind\": \"books#volume_series_info\", \"shortSeriesBookTitle\": \"Battle\", \"bookDisplayNumber\": \"3\", \"volumeSeries\": [{\"seriesId\": \"YZf3GgAAABCXjM\", \"seriesBookType\": \"COLLECTED_EDITION\", \"orderNumber\": 3}]}}, \"saleInfo\": {\"country\": \"US\", \"saleability\": \"FOR_SALE\", \"isEbook\": true, \"listPrice\": {\"amount\": 6.99, \"currencyCode\": \"USD\"}, \"retailPrice\": {\"amount\": 6.99, \"currencyCode\": \"USD\"}, \"buyLink\": \"https://play.google.com/store/books/details?id=RmqEBgAAQBAJ&rdid=book-RmqEBgAAQBAJ&rdot=1&source=gbs_api\", \"offers\": [{\"finskyOfferType\": 1, \"listPrice\": {\"amountInMicros\": 6990000, \"currencyCode\": \"USD\"}, \"retailPrice\": {\"amountInMicros\": 6990000, \"currencyCode\": \"USD\"}, \"giftable\": true}]}, \"accessInfo\": {\"country\": \"US\", \"viewability\": \"PARTIAL\", \"embeddable\": true, \"publicDomain\": false, \"textToSpeechPermission\": \"ALLOWED\", \"epub\": {\"isAvailable\": true}, \"pdf\": {\"isAvailable\": true}, \"webReaderLink\": \"http://play.google.com/books/reader?id=RmqEBgAAQBAJ&hl=&source=gbs_api\", \"accessViewStatus\": \"SAMPLE\", \"quoteSharingAllowed\": false}, \"searchInfo\": {\"textSnippet\": \"<b>Dragon Ball</b>: B\\u014dken Special (\\u30c9\\u30e9\\u30b4\\u30f3\\u30dc\\u30fc\\u30eb\\u5192\\u967aSPECIAL, \\u201c<b>Dragon Ball</b>: Adventure Special,\\u201d November 18, 1987): A guidebook covering the first few years of Toriyama&#39;s <b>Dragon Ball</b> manga, with fun games, interviews, and rare data.\"}}, {\"kind\": \"books#volume\", \"id\": \"SRdSCwAAQBAJ\", \"etag\": \"tGh+iqWSbwI\", \"selfLink\": \"https://www.googleapis.com/books/v1/volumes/SRdSCwAAQBAJ\", \"volumeInfo\": {\"title\": \"Dragon Ball Culture Volume 5\", \"subtitle\": \"Demons\", \"authors\": [\"Derek Padula\"], \"publisher\": \"Derek Padula\", \"publishedDate\": \"2016-01-05\", \"description\": \"Son Goku battles the demon king! In Dragon Ball Culture Volume 5 we\\u2019ll reunite with Goku and his friends as they compete in the 22nd Tenkaichi Budokai. Then we\\u2019ll join them as they fight in a life or death battle against the Demon King Pikkoro! Akira Toriyama starts us off by introducing three new characters into the story. These are Tenshinhan, Chaozu, and their evil master, Tsuru-sennin. This book reveals each of their cultural backgrounds. That\\u2019s right, if you\\u2019ve ever said to yourself, \\u201cWhy does Tenshinhan have a third eye?\\u201d and, \\u201cWhat the heck is Chaozu?!\\u201d then this is the book you\\u2019ve been waiting for. Toriyama then takes the Dragon Ball story to new depths by adding demons and gods into the mix. He increases the intensity of the series and makes it so Goku has no choice but to train harder in order to enact his revenge. And the way Goku does it is straight out of secret Daoist meditation practices of ancient China. Inside these pages you\\u2019ll discover the true origin of the demon king, find out how Goku learns to sense the energy of his opponents, and understand the full power of the world famous senzu. This book contains hundreds of new revelations about your favorite characters and their adventures through the Dragon World. Volume 5 explores Chapters 113 to 161. It's time to face your demons!\", \"industryIdentifiers\": [{\"type\": \"ISBN_13\", \"identifier\": \"9781943149025\"}, {\"type\": \"ISBN_10\", \"identifier\": \"194314902X\"}], \"readingModes\": {\"text\": true, \"image\": true}, \"pageCount\": 194, \"printType\": \"BOOK\", \"categories\": [\"Comics & Graphic Novels\"], \"maturityRating\": \"NOT_MATURE\", \"allowAnonLogging\": true, \"contentVersion\": \"1.1.2.0.preview.3\", \"panelizationSummary\": {\"containsEpubBubbles\": false, \"containsImageBubbles\": false}, \"imageLinks\": {\"smallThumbnail\": \"http://books.google.com/books/content?id=SRdSCwAAQBAJ&printsec=frontcover&img=1&zoom=5&edge=curl&source=gbs_api\", \"thumbnail\": \"http://books.google.com/books/content?id=SRdSCwAAQBAJ&printsec=frontcover&img=1&zoom=1&edge=curl&source=gbs_api\"}, \"language\": \"en\", \"previewLink\": \"http://books.google.com/books?id=SRdSCwAAQBAJ&pg=PT228&dq=Dragon+Ball&hl=&cd=9&source=gbs_api\", \"infoLink\": \"https://play.google.com/store/books/details?id=SRdSCwAAQBAJ&source=gbs_api\", \"canonicalVolumeLink\": \"https://play.google.com/store/books/details?id=SRdSCwAAQBAJ\", \"seriesInfo\": {\"kind\": \"books#volume_series_info\", \"shortSeriesBookTitle\": \"Demons\", \"bookDisplayNumber\": \"5\", \"volumeSeries\": [{\"seriesId\": \"YZf3GgAAABCXjM\", \"seriesBookType\": \"COLLECTED_EDITION\", \"orderNumber\": 5}]}}, \"saleInfo\": {\"country\": \"US\", \"saleability\": \"FOR_SALE\", \"isEbook\": true, \"listPrice\": {\"amount\": 6.99, \"currencyCode\": \"USD\"}, \"retailPrice\": {\"amount\": 6.99, \"currencyCode\": \"USD\"}, \"buyLink\": \"https://play.google.com/store/books/details?id=SRdSCwAAQBAJ&rdid=book-SRdSCwAAQBAJ&rdot=1&source=gbs_api\", \"offers\": [{\"finskyOfferType\": 1, \"listPrice\": {\"amountInMicros\": 6990000, \"currencyCode\": \"USD\"}, \"retailPrice\": {\"amountInMicros\": 6990000, \"currencyCode\": \"USD\"}, \"giftable\": true}]}, \"accessInfo\": {\"country\": \"US\", \"viewability\": \"PARTIAL\", \"embeddable\": true, \"publicDomain\": false, \"textToSpeechPermission\": \"ALLOWED\", \"epub\": {\"isAvailable\": true}, \"pdf\": {\"isAvailable\": true}, \"webReaderLink\": \"http://play.google.com/books/reader?id=SRdSCwAAQBAJ&hl=&source=gbs_api\", \"accessViewStatus\": \"SAMPLE\", \"quoteSharingAllowed\": false}, \"searchInfo\": {\"textSnippet\": \"<b>Dragon Ball</b> (\\u30c9\\u30e9\\u30b4\\u30f3\\u30dc\\u30fc\\u30eb, \\u201cDoragon B\\u014dru\\u201d): A manga series written by Akira Toriyama from 1984 to 1995, adapted into a hit anime, video game, and merchandise franchise. The quintessential batoru manga and the world&#39;s most recognized&nbsp;...\"}}, {\"kind\": \"books#volume\", \"id\": \"_3ICBwAAQBAJ\", \"etag\": \"9DQrC8y5tsc\", \"selfLink\": \"https://www.googleapis.com/books/v1/volumes/_3ICBwAAQBAJ\", \"volumeInfo\": {\"title\": \"Dragon Ball Culture Volume 4\", \"subtitle\": \"Westward\", \"authors\": [\"Derek Padula\"], \"publisher\": \"Derek Padula\", \"publishedDate\": \"2015-03-09\", \"description\": \"Goku goes west! His grand adventure begins anew as his martial arts master tells him to travel the world to increase his power. But what will happen when this na\\u00efve boy enters the real world and meets people who want to harm him? Will he be able to find his grandpa's 4-Star dragon ball, or will the villainous Red Ribbon Army get to it first?! In Dragon Ball Culture Volume 4, you'll discover the origin of the Red Ribbon Army in Western cinema. You'll see how author Akira Toriyama brings Western concepts into his Eastern world and fuses them together, creating the Dragon World that we know and love. And you\\u2019ll learn how monster movies, witches, and magical dragons mix together to tell a story about a young boy with a dream of becoming stronger. Volume 4 explores Chapters 54 to 112 of the Dragon Ball manga. So let's hop on our magic cloud and head west with Goku!\", \"industryIdentifiers\": [{\"type\": \"ISBN_13\", \"identifier\": \"9781943149001\"}, {\"type\": \"ISBN_10\", \"identifier\": \"1943149003\"}], \"readingModes\": {\"text\": true, \"image\": true}, \"pageCount\": 283, \"printType\": \"BOOK\", \"categories\": [\"Comics & Graphic Novels\"], \"maturityRating\": \"NOT_MATURE\", \"allowAnonLogging\": true, \"contentVersion\": \"1.6.4.0.preview.3\", \"panelizationSummary\": {\"containsEpubBubbles\": false, \"containsImageBubbles\": false}, \"imageLinks\": {\"smallThumbnail\": \"http://books.google.com/books/content?id=_3ICBwAAQBAJ&printsec=frontcover&img=1&zoom=5&edge=curl&source=gbs_api\", \"thumbnail\": \"http://books.google.com/books/content?id=_3ICBwAAQBAJ&printsec=frontcover&img=1&zoom=1&edge=curl&source=gbs_api\"}, \"language\": \"en\", \"previewLink\": \"http://books.google.com/books?id=_3ICBwAAQBAJ&pg=PT340&dq=Dragon+Ball&hl=&cd=10&source=gbs_api\", \"infoLink\": \"https://play.google.com/store/books/details?id=_3ICBwAAQBAJ&source=gbs_api\", \"canonicalVolumeLink\": \"https://play.google.com/store/books/details?id=_3ICBwAAQBAJ\", \"seriesInfo\": {\"kind\": \"books#volume_series_info\", \"shortSeriesBookTitle\": \"Westward\", \"bookDisplayNumber\": \"4\", \"volumeSeries\": [{\"seriesId\": \"YZf3GgAAABCXjM\", \"seriesBookType\": \"COLLECTED_EDITION\", \"orderNumber\": 4}]}}, \"saleInfo\": {\"country\": \"US\", \"saleability\": \"FOR_SALE\", \"isEbook\": true, \"listPrice\": {\"amount\": 6.99, \"currencyCode\": \"USD\"}, \"retailPrice\": {\"amount\": 6.99, \"currencyCode\": \"USD\"}, \"buyLink\": \"https://play.google.com/store/books/details?id=_3ICBwAAQBAJ&rdid=book-_3ICBwAAQBAJ&rdot=1&source=gbs_api\", \"offers\": [{\"finskyOfferType\": 1, \"listPrice\": {\"amountInMicros\": 6990000, \"currencyCode\": \"USD\"}, \"retailPrice\": {\"amountInMicros\": 6990000, \"currencyCode\": \"USD\"}, \"giftable\": true}]}, \"accessInfo\": {\"country\": \"US\", \"viewability\": \"PARTIAL\", \"embeddable\": true, \"publicDomain\": false, \"textToSpeechPermission\": \"ALLOWED\", \"epub\": {\"isAvailable\": true}, \"pdf\": {\"isAvailable\": true}, \"webReaderLink\": \"http://play.google.com/books/reader?id=_3ICBwAAQBAJ&hl=&source=gbs_api\", \"accessViewStatus\": \"SAMPLE\", \"quoteSharingAllowed\": false}, \"searchInfo\": {\"textSnippet\": \"<b>Dragon Ball</b> (\\u30c9\\u30e9\\u30b4\\u30f3\\u30dc\\u30fc\\u30eb, \\u201cDoragon B\\u014dru\\u201d): A manga series written by Akira Toriyama from 1984 to 1995, adapted into a hit anime, video game, and merchandise franchise. The quintessential batoru manga and the world&#39;s most recognized&nbsp;...\"}}]}"
   ]
  },
  {
   "attachments": {},
   "cell_type": "markdown",
   "metadata": {},
   "source": [
    "## Pieces of Data & Data Structures\n",
    "\n",
    "The accordion-style display is created using the Bootstrap framework. In the results.html file, the accordion structure is created using the following code snippet:"
   ]
  },
  {
   "cell_type": "code",
   "execution_count": null,
   "metadata": {
    "vscode": {
     "languageId": "plaintext"
    }
   },
   "outputs": [],
   "source": [
    "<div id=\"accordion\">\n",
    "    <!-- Accordion for Books -->\n",
    "    <div class=\"card\">\n",
    "        ...\n",
    "    </div>\n",
    "    <!-- Accordion for Movies -->\n",
    "    <div class=\"card\">\n",
    "        ...\n",
    "    </div>\n",
    "    <!-- Accordion for Articles -->\n",
    "    <div class=\"card\">\n",
    "        ...\n",
    "    </div>\n",
    "    <!-- Accordion for Most Common Genres -->\n",
    "    <div class=\"card\">\n",
    "        ...\n",
    "    </div>\n",
    "    <!-- Accordion for Highest Rated Books -->\n",
    "    <div class=\"card\">\n",
    "        ...\n",
    "    </div>\n",
    "</div>"
   ]
  },
  {
   "attachments": {},
   "cell_type": "markdown",
   "metadata": {},
   "source": [
    "Each section of the accordion is contained within a <div> element with the class=\"card\" attribute. Inside each card, there are two child <div> elements, one for the card header and one for the card body. The card header contains a link with the data-toggle=\"collapse\" attribute, which triggers the accordion effect. The card body contains the content to be displayed when the accordion is expanded. For example, here is the code for the \"Books\" section:"
   ]
  },
  {
   "cell_type": "code",
   "execution_count": null,
   "metadata": {
    "vscode": {
     "languageId": "plaintext"
    }
   },
   "outputs": [],
   "source": [
    "<div class=\"card\">\n",
    "    <div class=\"card-header\">\n",
    "        <a class=\"card-link\" data-toggle=\"collapse\" href=\"#collapseBooks\">\n",
    "            Books\n",
    "        </a>\n",
    "    </div>\n",
    "    <div id=\"collapseBooks\" class=\"collapse show\" data-parent=\"#accordion\">\n",
    "        <div class=\"card-body\">\n",
    "            <ul>\n",
    "                {% for book in book_list %}\n",
    "                <li><a href=\"{{ book.url }}\" target=\"_blank\">{{ book.info() }}</a></li>\n",
    "                {% endfor %}\n",
    "            </ul>\n",
    "        </div>\n",
    "    </div>\n",
    "</div>"
   ]
  },
  {
   "attachments": {},
   "cell_type": "markdown",
   "metadata": {},
   "source": [
    "Here, the \"Books\" section header is created using a link (< a > element) with the data-toggle=\"collapse\" attribute, and the href attribute points to the ID of the collapsible content (#collapseBooks). The collapsible content is contained within a < div > element with the ID \"collapseBooks\" and the class=\"collapse show\" attribute. The show class means that this section will be expanded by default when the page is loaded. The content of the \"Books\" section is dynamically generated using a Jinja2 template for loop.\n",
    "\n",
    "NOTE: To see the organization and presentation of the different sections, such as Books, Movies, Articles, Most Common Genres, and Highest Rated Books please see the demo video. "
   ]
  },
  {
   "attachments": {},
   "cell_type": "markdown",
   "metadata": {},
   "source": [
    "## Demo Video\n",
    "\n",
    "Here is the link to the Demo Video: \n",
    "\n",
    "https://youtu.be/x6-qnc-nvOk\n",
    "\n",
    "Video Extension showing the other search filters: https://youtu.be/TyK7pI8p5kQ \n",
    "\n"
   ]
  },
  {
   "attachments": {},
   "cell_type": "markdown",
   "metadata": {},
   "source": [
    "## Interaction and Presentation Options\n",
    "\n",
    "## User-facing Capabilities\n",
    "\n",
    "Users can search for books, movies, and related articles using a query, apply filters like language, author, genre, and minimum rating, and sort the results. They can view search results, analyze the most common genres, and find the highest-rated books. The application also displays movie descriptions and news articles related to the search query.\n",
    "\n",
    "## Interactive and Presentation Technologies\n",
    "\n",
    "- Flask: A web framework used to create the application's frontend and backend, handling user input and displaying search results.\n",
    "- Jinja2: A templating engine used in Flask to render the search results dynamically in the results.html file.\n",
    "- Bootstrap: A CSS framework used to style the application, making it responsive and visually appealing. It also provides functionality for collapsible sections and navigation buttons.\n",
    "- JavaScript: Used to implement interactive elements such as toggling dark mode functionality.\n",
    "- Python: Used to handle the backend processing, including searching for books, movies, and related articles, creating the genre graph, and applying filters to the results.\n",
    "\n",
    "## Instructions for User Interaction\n",
    "\n",
    "After submitting the search query from the index.html page, the user will be redirected to the search results page (results.html).\n",
    "\n",
    "1. On the search results page, the user can view the results organized into collapsible sections: Books, Movies, Articles, Most Common Genres, and Highest Rated Books.\n",
    "\n",
    "2. Users can click on the section headers to expand or collapse the content within each section.\n",
    "\n",
    "3. Click on the URLs provided to access more information about the items displayed.\n",
    "\n",
    "4. Users can navigate through the search results using the \"Previous\" and \"Next\" buttons at the bottom of the page.\n",
    "\n",
    "5. To start a new search, users can click the \"Start New Search\" button, which will redirect them back to the index.html page."
   ]
  }
 ],
 "metadata": {
  "language_info": {
   "name": "python"
  },
  "orig_nbformat": 4
 },
 "nbformat": 4,
 "nbformat_minor": 2
}
